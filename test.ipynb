{
 "cells": [
  {
   "cell_type": "code",
   "execution_count": 1,
   "metadata": {},
   "outputs": [],
   "source": [
    "from enum import Enum,auto\n",
    "from dataclasses import dataclass, field"
   ]
  },
  {
   "cell_type": "code",
   "execution_count": 13,
   "metadata": {},
   "outputs": [],
   "source": [
    "@dataclass\n",
    "class Attributes:\n",
    "    atk: int\n",
    "    deff: int\n",
    "\n",
    "    def __add__(self, other):\n",
    "        if isinstance(other, Attributes):\n",
    "            new_atk = self.atk + other.atk\n",
    "            new_deff = self.deff + other.deff\n",
    "            return Attributes(new_atk, new_deff)\n",
    "        else:\n",
    "            raise TypeError(\"Unsupported operand type\")\n",
    "\n"
   ]
  },
  {
   "cell_type": "code",
   "execution_count": 16,
   "metadata": {},
   "outputs": [],
   "source": [
    "class BuffType(Enum):\n",
    "    ATKUP = 1\n",
    "    DEFUP = 2"
   ]
  },
  {
   "cell_type": "code",
   "execution_count": 18,
   "metadata": {},
   "outputs": [
    {
     "name": "stdout",
     "output_type": "stream",
     "text": [
      "nooooooo!\n"
     ]
    }
   ],
   "source": [
    "atk_up = BuffType.ATKUP\n",
    "\n",
    "match atk_up:\n",
    "    case 1:\n",
    "        print(\"yeah!\")\n",
    "    case 2:\n",
    "        print(\"no yeah!\")\n",
    "    case _:\n",
    "        print(\"nooooooo!\")\n",
    "\n"
   ]
  }
 ],
 "metadata": {
  "kernelspec": {
   "display_name": "Python 3",
   "language": "python",
   "name": "python3"
  },
  "language_info": {
   "codemirror_mode": {
    "name": "ipython",
    "version": 3
   },
   "file_extension": ".py",
   "mimetype": "text/x-python",
   "name": "python",
   "nbconvert_exporter": "python",
   "pygments_lexer": "ipython3",
   "version": "3.10.6"
  },
  "orig_nbformat": 4
 },
 "nbformat": 4,
 "nbformat_minor": 2
}
